{
 "cells": [
  {
   "cell_type": "code",
   "execution_count": 95,
   "metadata": {},
   "outputs": [
    {
     "data": {
      "text/latex": [
       "$\\displaystyle d=0.0017\\,м,\\, где\\, d - ширина\\,зазора \\\\ L=0.0008\\,м,\\, где\\, L - расстояние\\,между\\,резонатором \\, и\\, отражателем$"
      ],
      "text/plain": [
       "<IPython.core.display.Math object>"
      ]
     },
     "metadata": {},
     "output_type": "display_data"
    }
   ],
   "source": [
    "from pylab import *\n",
    "from IPython.display import display, Math,Latex\n",
    "#Ures=120\n",
    "m=4\n",
    "e=1.60217662 * 10**(-19)\n",
    "m=9.10938356 * 10**(-31)\n",
    "U_ref=[20,48]\n",
    "U_0=34*3*ones(2)\n",
    "v=sqrt(2*e/m*U_0)\n",
    "l=np.array([10.566,10.56])*0.01 # в метрах\n",
    "c=3*10**8\n",
    "omega=2*pi*c/l\n",
    "a_1=omega/v\n",
    "a_2=2*m/e*omega*v/(U_0-U_ref)\n",
    "A=array([[a_1[0],a_2[0]],\n",
    "            [a_1[1],a_2[1]]])\n",
    "D=array([0.,0.])\n",
    "i=1\n",
    "D[0]=2*pi*(i+1+0.75)\n",
    "D[1]=2*pi*(i+2+0.75)\n",
    "x=np.linalg.solve(A,D)\n",
    "display(Math\n",
    "    (\n",
    "     r'd='+str(round(x[0],4))+\n",
    "      '\\,м,\\, где\\, d - ширина\\,зазора \\\\'+\n",
    "      '\\\\ L='+str(round(x[1],4))+'\\,м,\\, где\\, L - расстояние\\,между\\,резонатором '+\n",
    "      '\\, и\\, отражателем'\n",
    "    )\n",
    "       )"
   ]
  },
  {
   "cell_type": "code",
   "execution_count": 93,
   "metadata": {},
   "outputs": [
    {
     "name": "stdout",
     "output_type": "stream",
     "text": [
      "-0.013 0.004\n"
     ]
    },
    {
     "data": {
      "text/latex": [
       "$\\displaystyle d=-0.0125\\,м,\\, где\\, d - ширина\\,зазора \\\\ L=0.0043\\,м,\\, где\\, L - расстояние\\,между\\,резонатором \\, и\\, отражателем$"
      ],
      "text/plain": [
       "<IPython.core.display.Math object>"
      ]
     },
     "metadata": {},
     "output_type": "display_data"
    }
   ],
   "source": [
    "#Ures=96\n",
    "U_ref=[24,6]\n",
    "U_0=34*3*ones(2)\n",
    "v=sqrt(2*e/m*U_0)\n",
    "l=np.array([10.576,10.56])*0.01 # в метрах\n",
    "c=3*10**8\n",
    "omega=2*pi*c/l\n",
    "a_1=omega/v\n",
    "a_2=2*m/e*omega*v/(U_0-U_ref)\n",
    "A=array([[a_1[0],a_2[0]],\n",
    "            [a_1[1],a_2[1]]])\n",
    "D=array([0.,0.])\n",
    "i=1\n",
    "D[0]=2*pi*(i+3+0.75)\n",
    "D[1]=2*pi*(i+1+0.75)\n",
    "x=np.linalg.solve(A,D)\n",
    "print(round(x[0],3),round(x[1],3))\n",
    "display(Math\n",
    "    (\n",
    "     r'd='+str(round(x[0],4))+\n",
    "      '\\,м,\\, где\\, d - ширина\\,зазора \\\\'+\n",
    "      '\\\\ L='+str(round(x[1],4))+'\\,м,\\, где\\, L - расстояние\\,между\\,резонатором '+\n",
    "      '\\, и\\, отражателем'\n",
    "    )\n",
    "       )"
   ]
  },
  {
   "cell_type": "code",
   "execution_count": 90,
   "metadata": {},
   "outputs": [
    {
     "name": "stdout",
     "output_type": "stream",
     "text": [
      "0.004 0.001\n"
     ]
    },
    {
     "data": {
      "text/latex": [
       "$\\displaystyle d=0.004\\,м,\\, где\\, d - ширина\\,зазора \\\\ L=0.0008\\,м,\\, где\\, L - расстояние\\,между\\,резонатором \\, и\\, отражателем$"
      ],
      "text/plain": [
       "<IPython.core.display.Math object>"
      ]
     },
     "metadata": {},
     "output_type": "display_data"
    }
   ],
   "source": [
    "#Ures=96\n",
    "U_ref=[24,51]\n",
    "U_0=34*3*ones(2)\n",
    "v=sqrt(2*e/m*U_0)\n",
    "l=np.array([10.576,10.55])*0.01 # в метрах\n",
    "c=3*10**8\n",
    "omega=2*pi*c/l\n",
    "a_1=omega/v\n",
    "a_2=2*m/e*omega*v/(U_0-U_ref)\n",
    "A=array([[a_1[0],a_2[0]],\n",
    "            [a_1[1],a_2[1]]])\n",
    "D=array([0.,0.])\n",
    "i=1\n",
    "D[0]=2*pi*(i+1+0.75)\n",
    "D[1]=2*pi*(i+2+0.75)\n",
    "x=np.linalg.solve(A,D)\n",
    "print(round(x[0],3),round(x[1],3))\n",
    "display(Math\n",
    "    (\n",
    "     r'd='+str(round(x[0],4))+\n",
    "      '\\,м,\\, где\\, d - ширина\\,зазора \\\\'+\n",
    "      '\\\\ L='+str(round(x[1],4))+'\\,м,\\, где\\, L - расстояние\\,между\\,резонатором '+\n",
    "      '\\, и\\, отражателем'\n",
    "    )\n",
    "       )"
   ]
  },
  {
   "cell_type": "code",
   "execution_count": 112,
   "metadata": {},
   "outputs": [
    {
     "name": "stdout",
     "output_type": "stream",
     "text": [
      "2.4046404640464045\n"
     ]
    },
    {
     "data": {
      "text/plain": [
       "[<matplotlib.lines.Line2D at 0x121392fa1d0>]"
      ]
     },
     "execution_count": 112,
     "metadata": {},
     "output_type": "execute_result"
    },
    {
     "data": {
      "image/png": "[encoded data removed]",
      "text/plain": [
       "<Figure size 432x288 with 1 Axes>"
      ]
     },
     "metadata": {
      "needs_background": "light"
     },
     "output_type": "display_data"
    }
   ],
   "source": [
    "from scipy.special import jv\n",
    "\n",
    "def func(x):\n",
    "    func= jv(1,x)*x\n",
    "    return func\n",
    "x=linspace(0,4,10000)\n",
    "print(x[argmax(func(x))])\n",
    "plot(x,func(x))"
   ]
  },
  {
   "cell_type": "code",
   "execution_count": null,
   "metadata": {},
   "outputs": [],
   "source": []
  }
 ],
 "metadata": {
  "kernelspec": {
   "display_name": "Python 3",
   "language": "python",
   "name": "python3"
  },
  "language_info": {
   "codemirror_mode": {
    "name": "ipython",
    "version": 3
   },
   "file_extension": ".py",
   "mimetype": "text/x-python",
   "name": "python",
   "nbconvert_exporter": "python",
   "pygments_lexer": "ipython3",
   "version": "3.7.1"
  }
 },
 "nbformat": 4,
 "nbformat_minor": 2
}
